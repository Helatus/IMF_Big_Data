{
 "cells": [
  {
   "cell_type": "code",
   "execution_count": 70,
   "metadata": {
    "scrolled": true
   },
   "outputs": [
    {
     "name": "stdout",
     "output_type": "stream",
     "text": [
      "Introduce el texto a codificar\n",
      "aaa bbb ccc\n",
      "introduce clave 1\n",
      "3\n",
      "introduce clave 1\n",
      "2\n"
     ]
    },
    {
     "ename": "IndexError",
     "evalue": "list index out of range",
     "output_type": "error",
     "traceback": [
      "\u001b[1;31m---------------------------------------------------------------------------\u001b[0m",
      "\u001b[1;31mIndexError\u001b[0m                                Traceback (most recent call last)",
      "\u001b[1;32m<ipython-input-70-a077d346adcd>\u001b[0m in \u001b[0;36m<module>\u001b[1;34m()\u001b[0m\n\u001b[0;32m     15\u001b[0m         \u001b[0mpalabrascambiadas\u001b[0m\u001b[1;33m[\u001b[0m\u001b[1;36m0\u001b[0m\u001b[1;33m]\u001b[0m\u001b[1;33m=\u001b[0m\u001b[0mpalabras\u001b[0m\u001b[1;33m[\u001b[0m\u001b[0mi\u001b[0m\u001b[1;33m]\u001b[0m\u001b[1;33m\u001b[0m\u001b[0m\n\u001b[0;32m     16\u001b[0m     \u001b[1;32melse\u001b[0m\u001b[1;33m:\u001b[0m\u001b[1;33m\u001b[0m\u001b[0m\n\u001b[1;32m---> 17\u001b[1;33m          \u001b[0mpalabrascambiadas\u001b[0m\u001b[1;33m[\u001b[0m\u001b[1;33m(\u001b[0m\u001b[0mi\u001b[0m\u001b[1;33m+\u001b[0m\u001b[0mint\u001b[0m\u001b[1;33m(\u001b[0m\u001b[0mnpalabras\u001b[0m\u001b[1;33m)\u001b[0m\u001b[1;33m)\u001b[0m\u001b[1;33m-\u001b[0m\u001b[0mlen\u001b[0m\u001b[1;33m(\u001b[0m\u001b[0mpalabras\u001b[0m\u001b[1;33m)\u001b[0m\u001b[1;33m]\u001b[0m\u001b[1;33m=\u001b[0m\u001b[0mpalabras\u001b[0m\u001b[1;33m[\u001b[0m\u001b[0mi\u001b[0m\u001b[1;33m]\u001b[0m\u001b[1;33m\u001b[0m\u001b[0m\n\u001b[0m\u001b[0;32m     18\u001b[0m     \u001b[1;31m#return palabrascambiadas\u001b[0m\u001b[1;33m\u001b[0m\u001b[1;33m\u001b[0m\u001b[0m\n\u001b[0;32m     19\u001b[0m \u001b[0mpalabrascambiadas\u001b[0m\u001b[1;33m\u001b[0m\u001b[0m\n",
      "\u001b[1;31mIndexError\u001b[0m: list index out of range"
     ]
    }
   ],
   "source": [
    "#Un programa que solicite un texto a codificar al usuario, dos números que representan el desplazamiento de las letras y palabras y que mostrará en pantalla el resultado\n",
    "#def cifrar(texto,nletras,npalabras):\n",
    "texto=input(\"Introduce el texto a codificar\\n\")\n",
    "nletras=input(\"introduce clave 1\\n\")\n",
    "npalabras=input(\"introduce clave 1\\n\")\n",
    "\n",
    "#def cambiapalabras(texto,npalabras):\n",
    "palabrascambiadas = [\"a\",\"b\",\"c\"]\n",
    "palabrascambiadas\n",
    "palabras=texto.split(\" \")\n",
    "for i in range(0,len(texto)):\n",
    "    if ((i+int(npalabras))<len(palabras)):\n",
    "        palabrascambiadas[i+int(npalabras)]=palabras[i]\n",
    "    if ((i+int(npalabras))==len(palabras)):\n",
    "        palabrascambiadas[0]=palabras[i]\n",
    "    else:\n",
    "         palabrascambiadas[(i+int(npalabras))-len(palabras)]=palabras[i]\n",
    "    #return palabrascambiadas\n",
    "palabrascambiadas"
   ]
  },
  {
   "cell_type": "code",
   "execution_count": 63,
   "metadata": {},
   "outputs": [
    {
     "name": "stdout",
     "output_type": "stream",
     "text": [
      "Texto a cifrar:ddd ff\n",
      "Desplazamiento letra:5\n",
      "Desplazamiento palabra:4\n",
      "\n",
      "Texto cifrado:ididid kfkf \n"
     ]
    }
   ],
   "source": [
    "def cifrar(texto,desp,desp2):\n",
    "    muestra=\"\"#Crea la variable muestra vacía\n",
    "    texto=convertir(texto,desp2)#Llama a la función convertir en la variable texto\n",
    "    palabras=texto.split(\" \")\n",
    "    copia=palabras[:]\n",
    "    indices=[]\n",
    "    for i in range(0,len(palabras)):\n",
    "        indices.append((i+int(desp))%len(palabras))\n",
    "        copia[indices[i]]=palabras[i]\n",
    "    for j in range(0,len(copia)):\n",
    "        muestra+=\"\".join(copia[j])+\" \"\n",
    "    print(\"\\nTexto cifrado:\"+muestra)\n",
    "\n",
    "def convertir(text,desp2):\n",
    "    resul=\"\"#Crea la variable resul vacía\n",
    "    for car in text:\n",
    "        if car.isalpha():\n",
    "            resul+=chr((ord(car)-97+int(desp2))%26+97)\n",
    "        if car.isupper():\n",
    "            resul+=chr((ord(car)-65+int(desp2))%26+65)\n",
    "        else:\n",
    "            resul+=car\n",
    "    return resul\n",
    "\n",
    "if __name__==\"__main__\":\n",
    "    texto=input(\"Texto a cifrar:\")\n",
    "    desp2=input(\"Desplazamiento letra:\")\n",
    "    desp=input(\"Desplazamiento palabra:\")\n",
    "    if desp.isdigit() and desp2.isdigit():\n",
    "        cifrar(texto,desp,desp2)\n",
    "    else:\n",
    "        print(\"El desplazamiento ha de ser un dígito\")"
   ]
  },
  {
   "cell_type": "code",
   "execution_count": null,
   "metadata": {},
   "outputs": [],
   "source": []
  },
  {
   "cell_type": "code",
   "execution_count": null,
   "metadata": {
    "collapsed": true
   },
   "outputs": [],
   "source": []
  }
 ],
 "metadata": {
  "kernelspec": {
   "display_name": "Python 3",
   "language": "python",
   "name": "python3"
  },
  "language_info": {
   "codemirror_mode": {
    "name": "ipython",
    "version": 3
   },
   "file_extension": ".py",
   "mimetype": "text/x-python",
   "name": "python",
   "nbconvert_exporter": "python",
   "pygments_lexer": "ipython3",
   "version": "3.6.3"
  }
 },
 "nbformat": 4,
 "nbformat_minor": 2
}
